{
 "cells": [
  {
   "cell_type": "code",
   "execution_count": null,
   "metadata": {},
   "outputs": [],
   "source": [
    "# !git clone https://github.com/meituan/YOLOv6"
   ]
  },
  {
   "cell_type": "code",
   "execution_count": null,
   "metadata": {},
   "outputs": [],
   "source": [
    "cd YOLOv6"
   ]
  },
  {
   "cell_type": "code",
   "execution_count": null,
   "metadata": {},
   "outputs": [],
   "source": [
    "!pip install -r requirements.txt"
   ]
  },
  {
   "cell_type": "code",
   "execution_count": null,
   "metadata": {},
   "outputs": [],
   "source": [
    "# Training\n",
    "!python /home/datascience/cr7-yolo6/YOLOv6/tools/train.py --batch 16 --conf configs/yolov6s_finetune.py \n",
    "--data /home/datascience/cr7-yolo6/YOLOv6/data/dataset.yaml --device 0"
   ]
  },
  {
   "cell_type": "code",
   "execution_count": null,
   "metadata": {},
   "outputs": [],
   "source": [
    "# Detection\n",
    "!python /home/datascience/cr7-yolo6/YOLOv6/tools/infer.py --weights /home/datascience/cr7-yolo6/YOLOv6/runs/train/exp4/weights/best_ckpt.pt --device 0"
   ]
  }
 ],
 "metadata": {
  "kernelspec": {
   "display_name": "Python 3.9.12 ('base')",
   "language": "python",
   "name": "python3"
  },
  "language_info": {
   "codemirror_mode": {
    "name": "ipython",
    "version": 3
   },
   "file_extension": ".py",
   "mimetype": "text/x-python",
   "name": "python",
   "nbconvert_exporter": "python",
   "pygments_lexer": "ipython3",
   "version": "3.9.12"
  },
  "orig_nbformat": 4,
  "vscode": {
   "interpreter": {
    "hash": "ae86b0bece90c9344cbac9a4e027963974917bb766dfa3d68a5a47c230117f54"
   }
  }
 },
 "nbformat": 4,
 "nbformat_minor": 2
}
